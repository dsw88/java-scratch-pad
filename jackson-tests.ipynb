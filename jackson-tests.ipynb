{
 "cells": [
  {
   "cell_type": "code",
   "execution_count": 1,
   "metadata": {},
   "outputs": [],
   "source": [
    "%maven com.fasterxml.jackson.core:jackson-databind:2.9.7"
   ]
  },
  {
   "cell_type": "code",
   "execution_count": 3,
   "metadata": {},
   "outputs": [],
   "source": [
    "import com.fasterxml.jackson.annotation.JsonIgnoreProperties;\n",
    "import com.fasterxml.jackson.annotation.JsonProperty;\n",
    "import com.fasterxml.jackson.databind.ObjectMapper;"
   ]
  },
  {
   "cell_type": "code",
   "execution_count": 39,
   "metadata": {},
   "outputs": [],
   "source": [
    "public enum RequestType {\n",
    "    METADATA(\"metadata\"),\n",
    "    NEW_IMAGE(\"newImage\"),\n",
    "    REWORK_IMAGE(\"reworkImage\"),\n",
    "    NEW_ORAL_GEN(\"newOralGen\");\n",
    "\n",
    "    private final String value;\n",
    "\n",
    "    RequestType(String value) {\n",
    "        this.value = value;\n",
    "    }\n",
    "\n",
    "    @Override\n",
    "    public String toString() {\n",
    "        return value;\n",
    "    }\n",
    "}"
   ]
  },
  {
   "cell_type": "code",
   "execution_count": 40,
   "metadata": {},
   "outputs": [],
   "source": [
    "@JsonIgnoreProperties(ignoreUnknown = true)\n",
    "public class Request {\n",
    "  private String ingestObjectKey;\n",
    "  private RequestType requestType;\n",
    "\n",
    "  @JsonProperty(\"ingestObjectKey\")\n",
    "  public String getIngestObjectKey() {\n",
    "    return this.ingestObjectKey;\n",
    "  }\n",
    "\n",
    "  public void setIngestObjectKey(String ingestObjectKey) {\n",
    "    this.ingestObjectKey = ingestObjectKey;\n",
    "  }\n",
    "\n",
    "  @JsonProperty(\"requestType\")\n",
    "  public RequestType getRequestType() {\n",
    "    return requestType;\n",
    "  }\n",
    "\n",
    "  public void setRequestType(RequestType requestType) {\n",
    "    this.requestType = requestType;\n",
    "  }\n",
    "}"
   ]
  },
  {
   "cell_type": "code",
   "execution_count": 50,
   "metadata": {},
   "outputs": [
    {
     "data": {
      "text/plain": [
       "some/s3/key"
      ]
     },
     "execution_count": 50,
     "metadata": {},
     "output_type": "execute_result"
    }
   ],
   "source": [
    "ObjectMapper objectMapper = new ObjectMapper();\n",
    "Request request = objectMapper.readValue(\"{\\\"ingestObjectKey\\\": \\\"some/s3/key\\\", \\\"requestType\\\": \\\"REWORK_IMAGE\\\"}\", Request.class);\n",
    "request.getIngestObjectKey();"
   ]
  },
  {
   "cell_type": "code",
   "execution_count": 52,
   "metadata": {},
   "outputs": [
    {
     "data": {
      "text/plain": [
       "reworkImage"
      ]
     },
     "execution_count": 52,
     "metadata": {},
     "output_type": "execute_result"
    }
   ],
   "source": [
    "request.getRequestType();"
   ]
  },
  {
   "cell_type": "code",
   "execution_count": 55,
   "metadata": {},
   "outputs": [
    {
     "ename": "EvalException",
     "evalue": "null",
     "output_type": "error",
     "traceback": [
      "\u001b[1m\u001b[31m---------------------------------------------------------------------------\u001b[0m",
      "\u001b[1m\u001b[31mjava.lang.NullPointerException: null\u001b[0m",
      "\u001b[1m\u001b[31m\tat .(#65:1)\u001b[0m"
     ]
    }
   ],
   "source": [
    "RequestType requestType = null;\n",
    "switch(requestType) {\n",
    "    case NEW_IMAGE:\n",
    "        System.out.println(\"ONE PATH\");\n",
    "        break;\n",
    "    default:\n",
    "        System.out.println(\"OTHER PATH\");\n",
    "        break;\n",
    "}"
   ]
  },
  {
   "cell_type": "code",
   "execution_count": null,
   "metadata": {},
   "outputs": [],
   "source": []
  }
 ],
 "metadata": {
  "kernelspec": {
   "display_name": "Java",
   "language": "java",
   "name": "java"
  },
  "language_info": {
   "codemirror_mode": "java",
   "file_extension": ".java",
   "mimetype": "text/x-java-source",
   "name": "Java",
   "pygments_lexer": "java",
   "version": "9.0.1+11"
  }
 },
 "nbformat": 4,
 "nbformat_minor": 2
}
