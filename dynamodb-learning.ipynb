{
 "cells": [
  {
   "cell_type": "markdown",
   "metadata": {},
   "source": [
    "# DynamoDB Learning\n",
    "I've used DynamoDB before, but not in Java. This notebook contains examples of using the DynamoDB client from the AWS SDK V2 to interact with DyanmoDB tables"
   ]
  },
  {
   "cell_type": "code",
   "execution_count": 7,
   "metadata": {},
   "outputs": [],
   "source": [
    "%maven com.amazonaws:aws-java-sdk-dynamodb:1.11.106"
   ]
  },
  {
   "cell_type": "code",
   "execution_count": 8,
   "metadata": {},
   "outputs": [],
   "source": [
    "// Little class used for testing serializing and deseralizing to DynamoDB\n",
    "class Folder {\n",
    "    public String id; // DUFI\n",
    "    public String ingestId; // Currently usually the DUFI\n",
    "    public String metisProjectId;\n",
    "    public int processingRecipeId;\n",
    "    public String apid; // APID for the group\n",
    "    public String dgs; // DGS number for the group\n",
    "}"
   ]
  },
  {
   "cell_type": "code",
   "execution_count": 14,
   "metadata": {},
   "outputs": [],
   "source": [
    "import com.amazonaws.services.dynamodbv2.AmazonDynamoDB;\n",
    "import com.amazonaws.services.dynamodbv2.AmazonDynamoDBClientBuilder;\n",
    "import com.amazonaws.services.dynamodbv2.document.DynamoDB;\n",
    "import com.amazonaws.services.dynamodbv2.document.*;\n",
    "import java.util.ArrayList;\n",
    "import java.util.HashMap;\n",
    "\n",
    "AmazonDynamoDB client = AmazonDynamoDBClientBuilder\n",
    "    .standard()\n",
    "    .build();\n",
    "DynamoDB docClient = new DynamoDB(client);\n",
    "\n",
    "\n",
    "void saveFolder(Folder folder) {\n",
    "    Table table = docClient.getTable(\"dsw88-test-table\");\n",
    "    Item toSave = new Item()\n",
    "        .withString( \"MyPartitionKey\", folder.id )\n",
    "        .withString( \"MySortKey\", folder.apid )\n",
    "        .withString( \"IngestId\", folder.ingestId )\n",
    "        .withString( \"MetisProjectId\", folder.metisProjectId )\n",
    "        .withNumber( \"ProcessingRecipeId\", folder.processingRecipeId );\n",
    "    table.putItem(toSave);\n",
    "}\n",
    "\n",
    "Folder getFolder(String partitionKey, String sortKey) {\n",
    "    Table table = docClient.getTable(\"dsw88-test-table\");\n",
    "    Item item = table.getItem(\n",
    "        \"MyPartitionKey\",\n",
    "        partitionKey,\n",
    "        \"MySortKey\",\n",
    "        sortKey\n",
    "    );\n",
    "    Folder folder = new Folder();\n",
    "    folder.id = item.getString(\"MyPartitionKey\");\n",
    "    folder.apid = item.getString(\"MySortKey\");\n",
    "    folder.ingestId = item.getString(\"IngestId\");\n",
    "    folder.metisProjectId = item.getString(\"MetisProjectId\");\n",
    "    folder.processingRecipeId = item.getNumber(\"ProcessingRecipeId\").intValue();\n",
    "    return folder;\n",
    "}\n",
    "\n",
    "void getFolders(String partitionKey)\n",
    "{\n",
    "    Table table = docClient.getTable(\"dsw88-test-table\");\n",
    "    ItemCollection<QueryOutcome> items = table.query(\"MyPartitionKey\", partitionKey);\n",
    "\n",
    "    Iterator<Item> iterator = items.iterator();\n",
    "    Item item = null;\n",
    "    while (iterator.hasNext()) {\n",
    "        item = iterator.next();\n",
    "        System.out.println(item.toJSONPretty());\n",
    "    }\n",
    "}"
   ]
  },
  {
   "cell_type": "code",
   "execution_count": 15,
   "metadata": {},
   "outputs": [
    {
     "name": "stdout",
     "output_type": "stream",
     "text": [
      "SomeDUFI\n",
      "SomeAPID\n",
      "SomeDUFI\n",
      "MMMM-MMM\n",
      "113\n",
      "{\n",
      "  \"MyPartitionKey\" : \"SomeDUFI\",\n",
      "  \"MetisProjectId\" : \"MMMM-MMM\",\n",
      "  \"IngestId\" : \"SomeDUFI\",\n",
      "  \"ProcessingRecipeId\" : 113,\n",
      "  \"MySortKey\" : \"SomeAPID\"\n",
      "}\n",
      "{\n",
      "  \"MyPartitionKey\" : \"SomeDUFI\",\n",
      "  \"MetisProjectId\" : \"MMMM-MMM\",\n",
      "  \"IngestId\" : \"SomeOtherDUFI\",\n",
      "  \"ProcessingRecipeId\" : 113,\n",
      "  \"MySortKey\" : \"SomeOtherAPID\"\n",
      "}\n"
     ]
    }
   ],
   "source": [
    "// Add folder #1\n",
    "Folder folder = new Folder();\n",
    "folder.id = \"SomeDUFI\";\n",
    "folder.apid = \"SomeAPID\";\n",
    "folder.ingestId = \"SomeDUFI\";\n",
    "folder.metisProjectId = \"MMMM-MMM\";\n",
    "folder.processingRecipeId = 113;\n",
    "saveFolder(folder);\n",
    "\n",
    "// Add folder #2\n",
    "Folder folder2 = new Folder();\n",
    "folder2.id = \"SomeDUFI\";\n",
    "folder2.apid = \"SomeOtherAPID\";\n",
    "folder2.ingestId = \"SomeOtherDUFI\";\n",
    "folder2.metisProjectId = \"MMMM-MMM\";\n",
    "folder2.processingRecipeId = 113;\n",
    "saveFolder(folder2);\n",
    "\n",
    "Folder retFolder = getFolder(\"SomeDUFI\", \"SomeAPID\");\n",
    "System.out.println(retFolder.id);\n",
    "System.out.println(retFolder.apid);\n",
    "System.out.println(retFolder.ingestId);\n",
    "System.out.println(retFolder.metisProjectId);\n",
    "System.out.println(retFolder.processingRecipeId);\n",
    "\n",
    "getFolders(\"SomeDUFI\");"
   ]
  },
  {
   "cell_type": "code",
   "execution_count": null,
   "metadata": {},
   "outputs": [],
   "source": []
  }
 ],
 "metadata": {
  "kernelspec": {
   "display_name": "Java",
   "language": "java",
   "name": "java"
  },
  "language_info": {
   "codemirror_mode": "java",
   "file_extension": ".java",
   "mimetype": "text/x-java-source",
   "name": "Java",
   "pygments_lexer": "java",
   "version": "9.0.1+11"
  }
 },
 "nbformat": 4,
 "nbformat_minor": 2
}
