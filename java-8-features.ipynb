{
 "cells": [
  {
   "cell_type": "markdown",
   "metadata": {},
   "source": [
    "# Java 8 Features\n",
    "I haven't used Java 8's various new features (lambdas, functional interfaces, etc.) for several years now. This notebook contains code used to get re-acquainted with Java 8's features.\n",
    "\n",
    "Here are the resources I used to get myself up-to-speed:\n",
    "\n",
    "* [Java 8 Lambdas](https://www.amazon.com/Java-Lambdas-Functional-Programming-Masses/dp/1449370772)\n",
    "\n",
    "## Lambda Expressions\n",
    "In Java, Lambda expressions implement *Functional Interfaces*. A Functional Interface is an interface that has a **single** abstract method.\n",
    "\n",
    "This one implements *Runnable*, which takes no arguments and has a *void* return type:"
   ]
  },
  {
   "cell_type": "code",
   "execution_count": 1,
   "metadata": {},
   "outputs": [],
   "source": [
    "Runnable someFunc = () -> System.out.println(\"Hello World\");"
   ]
  },
  {
   "cell_type": "markdown",
   "metadata": {},
   "source": [
    "Here's one the implements the BinaryOperator interface:"
   ]
  },
  {
   "cell_type": "code",
   "execution_count": 4,
   "metadata": {},
   "outputs": [],
   "source": [
    "import java.util.function.BinaryOperator;\n",
    "BinaryOperator<Long> add = (x, y) -> x + y;"
   ]
  },
  {
   "cell_type": "markdown",
   "metadata": {},
   "source": [
    "## Using Lambda Expressions in Methods\n",
    "You can use a Lambda expression as a method parameter:"
   ]
  },
  {
   "cell_type": "code",
   "execution_count": 14,
   "metadata": {},
   "outputs": [
    {
     "name": "stdout",
     "output_type": "stream",
     "text": [
      "Before\n",
      "Doing something!\n",
      "After\n",
      "\n",
      "Before\n",
      "Doing something else!\n",
      "After\n",
      "\n"
     ]
    }
   ],
   "source": [
    "void runSomethingWithLog(Runnable funcToRun) {\n",
    "    System.out.println(\"Before\");\n",
    "    funcToRun.run();\n",
    "    System.out.println(\"After\\n\");\n",
    "}\n",
    "\n",
    "runSomethingWithLog(() -> System.out.println(\"Doing something!\"));\n",
    "runSomethingWithLog(() -> System.out.println(\"Doing something else!\"));"
   ]
  },
  {
   "cell_type": "markdown",
   "metadata": {},
   "source": [
    "## Streams\n",
    "The *streams* API in Java 8 provides high-level collections-processing libraries. They make heavy use of lambda expressions.\\\n",
    "\n",
    "You can use the streams API in cases where you would explicitly iterate over collections:"
   ]
  },
  {
   "cell_type": "code",
   "execution_count": 48,
   "metadata": {},
   "outputs": [
    {
     "name": "stdout",
     "output_type": "stream",
     "text": [
      "2\n",
      "2\n"
     ]
    }
   ],
   "source": [
    "import java.util.Arrays;\n",
    "List<Integer> examples = Arrays.asList(1, 2, 3, 4, 5);\n",
    "\n",
    "// Explicit iteration\n",
    "long countGreaterThan3 = 0;\n",
    "for(Integer example : examples) {\n",
    "    if(example > 3) {\n",
    "        countGreaterThan3++;\n",
    "    }\n",
    "}\n",
    "System.out.println(countGreaterThan3);\n",
    "\n",
    "// Streams API\n",
    "countGreaterThan3 = examples.stream()\n",
    "    .filter(item -> item > 3)\n",
    "    .count();\n",
    "System.out.println(countGreaterThan3);"
   ]
  },
  {
   "cell_type": "markdown",
   "metadata": {},
   "source": [
    "In the streams API, the final *terminal* actions are the only things that are eagerly evaluated. Everything else (those methods that return another stream) is lazily evaluated. This doesn't execute *filter*, for example, because it is missing one of the terminal actions:"
   ]
  },
  {
   "cell_type": "code",
   "execution_count": 51,
   "metadata": {},
   "outputs": [
    {
     "data": {
      "text/plain": [
       "java.util.stream.ReferencePipeline$2@4a37e20b"
      ]
     },
     "execution_count": 51,
     "metadata": {},
     "output_type": "execute_result"
    }
   ],
   "source": [
    "List<Integer> examples = Arrays.asList(1, 2, 3, 4, 5);\n",
    "examples.stream()\n",
    "    .filter(item -> {\n",
    "        System.out.println(\"This shouldn't print\");\n",
    "        return item > 3;\n",
    "    })"
   ]
  },
  {
   "cell_type": "markdown",
   "metadata": {},
   "source": [
    "The *Collectors* methods are used to take a stream and transform it back into a collection:"
   ]
  },
  {
   "cell_type": "code",
   "execution_count": 55,
   "metadata": {},
   "outputs": [
    {
     "name": "stdout",
     "output_type": "stream",
     "text": [
      "[Some string, Some string, Some string]\n"
     ]
    }
   ],
   "source": [
    "import java.util.stream.Collectors;\n",
    "List<Integer> examples = Arrays.asList(1, 2, 3);\n",
    "List<String> sillyTransform = examples.stream()\n",
    "    .map(item -> \"Some string\")\n",
    "    .collect(Collectors.toList());\n",
    "System.out.println(sillyTransform);"
   ]
  },
  {
   "cell_type": "code",
   "execution_count": null,
   "metadata": {},
   "outputs": [],
   "source": []
  }
 ],
 "metadata": {
  "kernelspec": {
   "display_name": "Java",
   "language": "java",
   "name": "java"
  },
  "language_info": {
   "codemirror_mode": "java",
   "file_extension": ".java",
   "mimetype": "text/x-java-source",
   "name": "Java",
   "pygments_lexer": "java",
   "version": "9.0.1+11"
  }
 },
 "nbformat": 4,
 "nbformat_minor": 2
}
