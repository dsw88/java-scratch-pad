{
 "cells": [
  {
   "cell_type": "markdown",
   "metadata": {},
   "source": [
    "# Java 8 Features\n",
    "I haven't used Java 8's various new features (lambdas, functional interfaces, etc.) for several years now. This notebook contains code used to get re-acquainted with Java 8's features.\n",
    "\n",
    "Here are the resources I used to get myself up-to-speed:\n",
    "\n",
    "* [Java 8 Lambdas](https://www.amazon.com/Java-Lambdas-Functional-Programming-Masses/dp/1449370772)\n",
    "\n",
    "## Lambda Expressions\n",
    "In Java, Lambda expressions implement *Functional Interfaces*. A Functional Interface is an interface that has a **single** abstract method. An functional interface should have the *@FunctionalInterface* annotation.\n",
    "\n",
    "This one implements *Runnable*, which takes no arguments and has a *void* return type:"
   ]
  },
  {
   "cell_type": "code",
   "execution_count": 1,
   "metadata": {},
   "outputs": [],
   "source": [
    "Runnable someFunc = () -> System.out.println(\"Hello World\");"
   ]
  },
  {
   "cell_type": "markdown",
   "metadata": {},
   "source": [
    "Here's one the implements the BinaryOperator interface:"
   ]
  },
  {
   "cell_type": "code",
   "execution_count": 2,
   "metadata": {},
   "outputs": [],
   "source": [
    "import java.util.function.BinaryOperator;\n",
    "BinaryOperator<Long> add = (x, y) -> x + y;"
   ]
  },
  {
   "cell_type": "markdown",
   "metadata": {},
   "source": [
    "Here's another one that implements the Function interface:"
   ]
  },
  {
   "cell_type": "code",
   "execution_count": 3,
   "metadata": {},
   "outputs": [
    {
     "name": "stdout",
     "output_type": "stream",
     "text": [
      "24\n"
     ]
    }
   ],
   "source": [
    "import java.util.function.Function;\n",
    "Function<Integer, String> toString = item -> item.toString();\n",
    "String result = toString.apply(24);\n",
    "System.out.println(result);"
   ]
  },
  {
   "cell_type": "markdown",
   "metadata": {},
   "source": [
    "Here's another one that implements the Supplier interface:"
   ]
  },
  {
   "cell_type": "code",
   "execution_count": 4,
   "metadata": {},
   "outputs": [
    {
     "name": "stdout",
     "output_type": "stream",
     "text": [
      "0.40693660130311093\n"
     ]
    }
   ],
   "source": [
    "import java.util.function.Supplier;\n",
    "Supplier<Double> randomInt = () -> Math.random();\n",
    "System.out.println(randomInt.get());"
   ]
  },
  {
   "cell_type": "markdown",
   "metadata": {},
   "source": [
    "## Using Lambda Expressions in Methods\n",
    "You can use a Lambda expression as a method parameter:"
   ]
  },
  {
   "cell_type": "code",
   "execution_count": 5,
   "metadata": {},
   "outputs": [
    {
     "name": "stdout",
     "output_type": "stream",
     "text": [
      "Before\n",
      "Doing something!\n",
      "After\n",
      "\n",
      "Before\n",
      "Doing something else!\n",
      "After\n",
      "\n"
     ]
    }
   ],
   "source": [
    "void runSomethingWithLog(Runnable funcToRun) {\n",
    "    System.out.println(\"Before\");\n",
    "    funcToRun.run();\n",
    "    System.out.println(\"After\\n\");\n",
    "}\n",
    "\n",
    "runSomethingWithLog(() -> System.out.println(\"Doing something!\"));\n",
    "runSomethingWithLog(() -> System.out.println(\"Doing something else!\"));"
   ]
  },
  {
   "cell_type": "markdown",
   "metadata": {},
   "source": [
    "## Streams\n",
    "The *streams* API in Java 8 provides high-level collections-processing libraries. They make heavy use of lambda expressions.\\\n",
    "\n",
    "You can use the streams API in cases where you would explicitly iterate over collections:"
   ]
  },
  {
   "cell_type": "code",
   "execution_count": 6,
   "metadata": {},
   "outputs": [
    {
     "name": "stdout",
     "output_type": "stream",
     "text": [
      "2\n",
      "2\n"
     ]
    }
   ],
   "source": [
    "import java.util.Arrays;\n",
    "List<Integer> examples = Arrays.asList(1, 2, 3, 4, 5);\n",
    "\n",
    "// Explicit iteration\n",
    "long countGreaterThan3 = 0;\n",
    "for(Integer example : examples) {\n",
    "    if(example > 3) {\n",
    "        countGreaterThan3++;\n",
    "    }\n",
    "}\n",
    "System.out.println(countGreaterThan3);\n",
    "\n",
    "// Streams API\n",
    "countGreaterThan3 = examples.stream()\n",
    "    .filter(item -> item > 3)\n",
    "    .count();\n",
    "System.out.println(countGreaterThan3);"
   ]
  },
  {
   "cell_type": "markdown",
   "metadata": {},
   "source": [
    "In the streams API, the final *terminal* actions are the only things that are eagerly evaluated. Everything else (those methods that return another stream) is lazily evaluated. This doesn't execute *filter*, for example, because it is missing one of the terminal actions:"
   ]
  },
  {
   "cell_type": "code",
   "execution_count": 7,
   "metadata": {},
   "outputs": [
    {
     "data": {
      "text/plain": [
       "java.util.stream.ReferencePipeline$2@40b0567a"
      ]
     },
     "execution_count": 7,
     "metadata": {},
     "output_type": "execute_result"
    }
   ],
   "source": [
    "List<Integer> examples = Arrays.asList(1, 2, 3, 4, 5);\n",
    "examples.stream()\n",
    "    .filter(item -> {\n",
    "        System.out.println(\"This shouldn't print\");\n",
    "        return item > 3;\n",
    "    })"
   ]
  },
  {
   "cell_type": "markdown",
   "metadata": {},
   "source": [
    "The *Collectors* methods are used to take a stream and transform it back into a collection:"
   ]
  },
  {
   "cell_type": "code",
   "execution_count": 8,
   "metadata": {},
   "outputs": [
    {
     "name": "stdout",
     "output_type": "stream",
     "text": [
      "[Some string, Some string, Some string]\n"
     ]
    }
   ],
   "source": [
    "import static java.util.stream.Collectors.*;\n",
    "List<Integer> examples = Arrays.asList(1, 2, 3);\n",
    "List<String> sillyTransform = examples.stream()\n",
    "    .map(item -> \"Some string\")\n",
    "    .collect(toList());\n",
    "System.out.println(sillyTransform);"
   ]
  },
  {
   "cell_type": "markdown",
   "metadata": {},
   "source": [
    "## Default Methods\n",
    "Default methods are a powerful way to add new API features to existing classes without breaking backwards-compatibility. For example, the Collections APIs were enhanced with tons of new functionality in Java 8 through default methods.\n",
    "\n",
    "The following is an example of using a default method:"
   ]
  },
  {
   "cell_type": "code",
   "execution_count": 9,
   "metadata": {},
   "outputs": [
    {
     "name": "stdout",
     "output_type": "stream",
     "text": [
      "printSomething body: Hello from default method\n"
     ]
    }
   ],
   "source": [
    "interface SomeParent {\n",
    "    void printSomething(String body);\n",
    "    \n",
    "    default void usePrintSomething() {\n",
    "        printSomething(\"Hello from default method\");\n",
    "    }\n",
    "}\n",
    "\n",
    "class SomeChild implements SomeParent {\n",
    "    public void printSomething(String body) {\n",
    "        System.out.println(\"printSomething body: \" + body);\n",
    "    }\n",
    "}\n",
    "\n",
    "\n",
    "SomeParent theObject = new SomeChild();\n",
    "theObject.usePrintSomething();"
   ]
  },
  {
   "cell_type": "markdown",
   "metadata": {},
   "source": [
    "## Method References\n",
    "Method references are a bit of syntactic sugar that simplify this common pattern:"
   ]
  },
  {
   "cell_type": "code",
   "execution_count": 10,
   "metadata": {},
   "outputs": [
    {
     "name": "stdout",
     "output_type": "stream",
     "text": [
      "[WE, ARE, LOWERCASE]\n"
     ]
    }
   ],
   "source": [
    "List<String> list = Arrays.asList(\"we\", \"are\", \"lowercase\");\n",
    "List<String> upperCased = list.stream()\n",
    "    .map(item -> item.toUpperCase())\n",
    "    .collect(toList());\n",
    "System.out.println(upperCased);"
   ]
  },
  {
   "cell_type": "markdown",
   "metadata": {},
   "source": [
    "The above example uses `.map(item -> item.toString())`. When you have a lambda that just calls a single method you can simplify it using method references:"
   ]
  },
  {
   "cell_type": "code",
   "execution_count": 11,
   "metadata": {},
   "outputs": [
    {
     "name": "stdout",
     "output_type": "stream",
     "text": [
      "[WE, ARE, LOWERCASE]\n"
     ]
    }
   ],
   "source": [
    "List<String> upperCased = list.stream()\n",
    "    .map(String::toUpperCase) // The method reference syntax is classname::methodname\n",
    "    .collect(toList());\n",
    "System.out.println(upperCased);"
   ]
  },
  {
   "cell_type": "markdown",
   "metadata": {},
   "source": [
    "## Collectors\n",
    "Java has the java.util.streams.Collectors class that has a lot of useful helper methods to transform streams into various output data structures. Most of these are effectively what you would have written in a `reduce()` call, just at a nice higher level.\n",
    "\n",
    "I've already used the toList() collector method. Here's another example using partitioningBy()"
   ]
  },
  {
   "cell_type": "code",
   "execution_count": 12,
   "metadata": {},
   "outputs": [
    {
     "name": "stdout",
     "output_type": "stream",
     "text": [
      "{false=[4, 5, 6], true=[2, 3]}\n"
     ]
    }
   ],
   "source": [
    "List<Integer> someNumbers = Arrays.asList(1,2,3,4,5);\n",
    "Map<Boolean, List<Integer>> partitioned = someNumbers.stream()\n",
    "    .map(item -> item + 1)\n",
    "    .collect(partitioningBy(item -> item < 4));\n",
    "System.out.println(partitioned);"
   ]
  },
  {
   "cell_type": "markdown",
   "metadata": {},
   "source": [
    "Here's another example using grouping by:"
   ]
  },
  {
   "cell_type": "code",
   "execution_count": 13,
   "metadata": {},
   "outputs": [
    {
     "name": "stdout",
     "output_type": "stream",
     "text": [
      "{a=[are], s=[some], t=[these, terrific], w=[words]}\n"
     ]
    }
   ],
   "source": [
    "List<String> someWords = Arrays.asList(\"these\", \"are\", \"some\", \"terrific\", \"words\");\n",
    "Map<Character, List<String>> groupedBy = someWords.stream()\n",
    "    .collect(groupingBy(item -> item.charAt(0)));\n",
    "System.out.println(groupedBy);"
   ]
  },
  {
   "cell_type": "markdown",
   "metadata": {},
   "source": [
    "You can compose collectors as well, such as composing *counting* with *groupingBy*:"
   ]
  },
  {
   "cell_type": "code",
   "execution_count": 16,
   "metadata": {},
   "outputs": [
    {
     "name": "stdout",
     "output_type": "stream",
     "text": [
      "{a=1, s=1, t=2, w=1}\n"
     ]
    }
   ],
   "source": [
    "Map<Character, Long> countGroupedBy = someWords.stream()\n",
    "    .collect(groupingBy(item -> item.charAt(0), counting()));\n",
    "System.out.println(countGroupedBy);"
   ]
  },
  {
   "cell_type": "markdown",
   "metadata": {},
   "source": [
    "This works by running first *groupingBy* to group, then it runs the *downstream* collector (*counting* in this case), feeding in the results from the first collector."
   ]
  },
  {
   "cell_type": "code",
   "execution_count": null,
   "metadata": {},
   "outputs": [],
   "source": []
  }
 ],
 "metadata": {
  "kernelspec": {
   "display_name": "Java",
   "language": "java",
   "name": "java"
  },
  "language_info": {
   "codemirror_mode": "java",
   "file_extension": ".java",
   "mimetype": "text/x-java-source",
   "name": "Java",
   "pygments_lexer": "java",
   "version": "9.0.1+11"
  }
 },
 "nbformat": 4,
 "nbformat_minor": 2
}
