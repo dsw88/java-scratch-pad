{
 "cells": [
  {
   "cell_type": "markdown",
   "metadata": {},
   "source": [
    "# Spring Retry Experiments\n",
    "This notebook contains some experiments I did while learning how Spring Retry behaves.\n",
    "\n",
    "First, here's a simple setup of a RetryTemplate with a SimpleRetryPolicy:"
   ]
  },
  {
   "cell_type": "code",
   "execution_count": 17,
   "metadata": {},
   "outputs": [],
   "source": [
    "%maven org.springframework.retry:spring-retry:1.2.2.RELEASE\n",
    "import org.springframework.retry.support.RetryTemplate;\n",
    "import org.springframework.retry.policy.SimpleRetryPolicy;\n",
    "RetryTemplate template = new RetryTemplate();\n",
    "SimpleRetryPolicy policy = new SimpleRetryPolicy();\n",
    "policy.setMaxAttempts(5);\n",
    "template.setRetryPolicy(policy);"
   ]
  },
  {
   "cell_type": "markdown",
   "metadata": {},
   "source": [
    "First here's an example where no retry is needed. The callback only executes once and the \"Hello\" value is properly returned:"
   ]
  },
  {
   "cell_type": "code",
   "execution_count": 18,
   "metadata": {},
   "outputs": [
    {
     "name": "stdout",
     "output_type": "stream",
     "text": [
      "Trying\n",
      "Hello\n"
     ]
    }
   ],
   "source": [
    "String result = template.execute(context -> {\n",
    "    System.out.println(\"Trying\");\n",
    "    return \"Hello\";\n",
    "});\n",
    "System.out.println(result);"
   ]
  },
  {
   "cell_type": "markdown",
   "metadata": {},
   "source": [
    "If the method throws an exception, the retry will kick in according to the policy. In this case that means up to 5 retries:"
   ]
  },
  {
   "cell_type": "code",
   "execution_count": 20,
   "metadata": {},
   "outputs": [
    {
     "name": "stdout",
     "output_type": "stream",
     "text": [
      "Trying\n",
      "Trying\n",
      "Trying\n",
      "Trying\n",
      "Trying\n",
      "Threw an exception\n",
      "java.lang.Exception: Failed\n"
     ]
    }
   ],
   "source": [
    "try {\n",
    "    String result = template.execute(context -> {\n",
    "        System.out.println(\"Trying\");\n",
    "        throw new Exception(\"Failed\");\n",
    "    });\n",
    "    System.out.println(result);\n",
    "}\n",
    "catch(Exception e) {\n",
    "    System.out.println(\"Threw an exception\");\n",
    "    System.out.println(e);\n",
    "}"
   ]
  },
  {
   "cell_type": "markdown",
   "metadata": {},
   "source": [
    "The above example shows that no value is returned, instead the last exception is thrown and needs to be handled by the calling code. This is all as expected."
   ]
  },
  {
   "cell_type": "code",
   "execution_count": null,
   "metadata": {},
   "outputs": [],
   "source": []
  }
 ],
 "metadata": {
  "kernelspec": {
   "display_name": "Java",
   "language": "java",
   "name": "java"
  },
  "language_info": {
   "codemirror_mode": "java",
   "file_extension": ".java",
   "mimetype": "text/x-java-source",
   "name": "Java",
   "pygments_lexer": "java",
   "version": "9.0.1+11"
  }
 },
 "nbformat": 4,
 "nbformat_minor": 2
}
